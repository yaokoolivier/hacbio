# Topics Covered: Coding Syntax, Data types and Data Structures
# Instructions
# Form a team of at least 5 people with different Programming language
# Using either R and Python. I.e, produce the solution with only one of R and Python
# Use any data structure of your choice to organize the following information
# Your names
# Your Slackrname
# Your email
# Your hobby
# Your countries
# Your discipline
# Your preferred Programming language
# Don’t use functions, loops, conditionals or any complex concepts
# Your code should include a final print statement that prints the organized output in a logical and understandable way
#Code test numero 1
coding_team = {
    "member1":  {
        "name" : "Kouakou Dorgeles" ,
        "slack" : "KDorgeles" , 
        "Email" : "kouakoudorgeles@gmail.com" ,
        "Hobby" : "play football",
        "Country" : "Ivory Coast" ,
        "Discipline" : "Biotechnoligy",
        "Programminglg" : "R"
    },
    "member 2":  {
        "name" : "yoshua kouassi" ,
        "slack" : "yousha" , 
        "Email" : "yoshuakoussi@gmail.com" ,
        "Hobby" : "play football",
        "Country" : "Ivory Coast" ,
        "Discipline" : "  bioinformatic",
        "Programminglg" : "Python"
    },
}

print(f"member 1 name is : {coding_team['member1']['name']} \n with slackname {coding_team['member1']['slack']} and E-mail {coding_team['member1']['Email']}")
