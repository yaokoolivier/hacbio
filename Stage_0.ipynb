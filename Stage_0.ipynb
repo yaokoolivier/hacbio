# Topics Covered: Coding Syntax, Data types and Data Structures
# Instructions
# Form a team of at least 5 people with different Programming language
# Using either R and Python. I.e, produce the solution with only one of R and Python
# Use any data structure of your choice to organize the following information
# Your names
# Your Slackrname
# Your email
# Your hobby
# Your countries
# Your discipline
# Your preferred Programming language
# Don’t use functions, loops, conditionals or any complex concepts
# Your code should include a final print statement that prints the organized output in a logical and understandable way


#Code test numero 1
coding_team = {
    "member1":  {
        "name" : "Kouakou Dorgeles" ,
        "slack" : "KDorgeles" , 
        "Email" : "kouakoudorgeles@gmail.com" ,
        "Hobby" : "play football",
        "Country" : "Ivory Coast" ,
        "Discipline" : "Biotechnoligy",
        "Programminglg" : "R"
    },
    "member 2":  {
        "name" : "yoshua kouassi" ,
        "slack" : "yousha" , 
        "Email" : "yoshuakoussi@gmail.com" ,
        "Hobby" : "play football",
        "Country" : "Ivory Coast" ,
        "Discipline" : "  bioinformatic",
        "Programminglg" : "Python"
    },
}

print(f"member 1 name is : {coding_team['member1']['name']} \n with slackname {coding_team['member1']['slack']} and E-mail {coding_team['member1']['Email']}")


print(f"member1 name is {coding_team['member1']['Name']} with slackname {coding_team['member1']['Slack']} and email {coding_team['member1']['Email']}\n He/her love {coding_team['member1']['Hobby']} \n Live in {coding_team['member1']['Country']} \n Love language is : {coding_team['member1']['ProgrammingLg']} \n and Discipline is : {coding_team['member1']['Discipline']}.\n")
print("="*100)
print(f"member2 name is {coding_team['member2']['Name']} with slackname {coding_team['member2']['Slack']} and email {coding_team['member2']['Email']}\n He/her love {coding_team['member2']['Hobby']} \n Live in {coding_team['member2']['Country']} \n Love language is : {coding_team['member2']['ProgrammingLg']} \n and Discipline is : {coding_team['member2']['Discipline']}.\n")
print("="*100)
print(f"member3 name is {coding_team['member3']['Name']} with slackname {coding_team['member3']['Slack']} and email {coding_team['member3']['Email']}\n He/her love {coding_team['member3']['Hobby']} \n Live in {coding_team['member3']['Country']} \n Love language is : {coding_team['member3']['ProgrammingLg']} \n and Discipline is : {coding_team['member3']['Discipline']}.\n")
print("="*100)
print(f"member4 name is {coding_team['member4']['Name']} with slackname {coding_team['member4']['Slack']} and email {coding_team['member4']['Email']}\n He/her love {coding_team['member4']['Hobby']} \n Live in {coding_team['member4']['Country']} \n Love language is : {coding_team['member4']['ProgrammingLg']} \n and Discipline is : {coding_team['member4']['Discipline']}.\n")
print("="*100)
print(f"member5 name is {coding_team['member5']['Name']} with slackname {coding_team['member5']['Slack']} and email {coding_team['member5']['Email']}\n He/her love {coding_team['member5']['Hobby']} \n Live in {coding_team['member5']['Country']} \n Love language is : {coding_team['member5']['ProgrammingLg']} \n and Discipline is : {coding_team['member5']['Discipline']}.\n")


coding_team = {
    "member1": {
        "Name": "Kouakou Dorgeles",
        "Slack": "KDorge",
        "Email": "kouakou@gmail.com",
        "Hobby": "play football",
        "Country": "ivory Coast",
        "Discipline": "Biotechnology",
        "ProgrammingLg": "R"
    },
    "member2": {
        "Name": "yoshua kouassi",
        "Slack": "yoshua",
        "Email": "yoskouassi@gmail.com",
        "Hobby": "gaming",
        "Country": "Ghana",
        "Discipline": "Genetics",
        "ProgrammingLg": "Bash"
    },
    "member3": {
        "Name": "azert yoks",
        "Slack": "axet65",
        "Email": "azertyoks@gmail.com",
        "Hobby": "painting",
        "Country": "Algeria",
        "Discipline": "Biological Sciences",
        "ProgrammingLg": "Python"
    },
    "member4": {
        "Name": "Okou obafemi",
        "Slack": "Oobafemi",
        "Email": "obafemi199@gmail.com",
        "Hobby": "horse riding",
        "Country": "Nigeria",
        "Discipline": "nanotechnology",
        "ProgrammingLg": "Python"
    },
    "member5": {
        "Name": "Gbalou jean bonin",
        "Slack": "GBJ",
        "Email": "gbaloujb@gmail.com",
        "Hobby": "hunter",
        "Country": "Benin",
        "Discipline": "software engineering",
        "ProgrammingLg": "R"
    }
}

# Final Print Statement
print("Coding team: \n")


print(f"member1 name is {coding_team['member1']['Name']} with slackname {coding_team['member1']['Slack']} and email {coding_team['member1']['Email']}\n He/her love {coding_team['member1']['Hobby']} \n Live in {coding_team['member1']['Country']} \n Love language is : {coding_team['member1']['ProgrammingLg']} \n and Discipline is : {coding_team['member1']['Discipline']}.\n")
print("="*100)
print(f"member2 name is {coding_team['member2']['Name']} with slackname {coding_team['member2']['Slack']} and email {coding_team['member2']['Email']}\n He/her love {coding_team['member2']['Hobby']} \n Live in {coding_team['member2']['Country']} \n Love language is : {coding_team['member2']['ProgrammingLg']} \n and Discipline is : {coding_team['member2']['Discipline']}.\n")
print("="*100)
print(f"member3 name is {coding_team['member3']['Name']} with slackname {coding_team['member3']['Slack']} and email {coding_team['member3']['Email']}\n He/her love {coding_team['member3']['Hobby']} \n Live in {coding_team['member3']['Country']} \n Love language is : {coding_team['member3']['ProgrammingLg']} \n and Discipline is : {coding_team['member3']['Discipline']}.\n")
print("="*100)
print(f"member4 name is {coding_team['member4']['Name']} with slackname {coding_team['member4']['Slack']} and email {coding_team['member4']['Email']}\n He/her love {coding_team['member4']['Hobby']} \n Live in {coding_team['member4']['Country']} \n Love language is : {coding_team['member4']['ProgrammingLg']} \n and Discipline is : {coding_team['member4']['Discipline']}.\n")
print("="*100)
print(f"member5 name is {coding_team['member5']['Name']} with slackname {coding_team['member5']['Slack']} and email {coding_team['member5']['Email']}\n He/her love {coding_team['member5']['Hobby']} \n Live in {coding_team['member5']['Country']} \n Love language is : {coding_team['member5']['ProgrammingLg']} \n and Discipline is : {coding_team['member5']['Discipline']}.\n")
